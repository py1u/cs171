{
 "cells": [
  {
   "cell_type": "markdown",
   "metadata": {},
   "source": [
    "# CS 171 / EE 142 Problem Set 4\n",
    "# Due Friday, March 16, 2024 @ 11:59pm "
   ]
  },
  {
   "cell_type": "markdown",
   "metadata": {},
   "source": [
    "## Read *all* cells carefully and answer all parts (both text and code)"
   ]
  },
  {
   "cell_type": "markdown",
   "metadata": {},
   "source": [
    "### Enter your information below:\n",
    "\n",
    "<div style=\"color: #000000;background-color: #EEEEFF\">\n",
    "    Your Name (submitter): <br>\n",
    "Your student ID (submitter):\n",
    "    \n",
    "<b>By submitting this notebook, I assert that the work below is my own work, completed for this course.  Except where explicitly cited, none of the portions of this notebook are duplicated from anyone else's work or my own previous work.</b>\n",
    "</div>"
   ]
  },
  {
   "cell_type": "markdown",
   "metadata": {},
   "source": [
    "<div class=\"alert alert-success\">\n",
    "    <font size=+2>Total Problem Set Grading</font> (to be completed by grader)<br>\n",
    "    Total Points: /20<br>\n",
    "    Late Days Used on this Assignment: <br>\n",
    "    Total Late Days Used: <br>\n",
    "</div>"
   ]
  },
  {
   "cell_type": "markdown",
   "metadata": {},
   "source": [
    "<div style=\"color: #000000;background-color: #FFFFEE\">\n",
    "    <font size=+2>Question 1:</font> <font size=+1>(12 points)</font>\n",
    "    \n",
    "In this question, you will write code to do association rule learning, as described in class.\n",
    "\n",
    "The items will be represented by numbers (for ease and speed) with a separate\n",
    "list of the names for each item.  `loaddata` (below) loads in a dataset and returns these three things: a list of the names of each item, a list of the examples, and the total number of items.  Each example is a set of numbers representing the items.  For example, for the toy problem in lecture, loaddata returns\n",
    "\n",
    "`['Jurassic Park', 'Star Wars', 'Forrest Gump', 'Home Alone', 'Toy Story']`\n",
    "\n",
    "`[[1, 2, 4], [1, 4], [1, 3, 4], [0, 1], [0, 3], [1, 3, 4], [0, 2, 3], [3], [1, 3, 4], [1]]`\n",
    "\n",
    "`5`\n",
    "\n",
    "You should use `set`s and `frozenset`s (core python data structures) in your code.  You can read more about them at https://docs.python.org/3/library/stdtypes.html#set\n",
    "\n",
    "Write the functions `learnrules` and `writerules`, plus any additional helper functions you need.  Use the apriori algorithm to generate \"frequent item lists\" and the algorithm from class to find rules that meet the minimum support and confidence given.\n",
    "</div>\n",
    "</div>\n",
    "   <div class=\"alert alert-success\">\n",
    "    <font size=+1>Grading</font> (to be completed by grader)<br>\n",
    "    Score: /12<br>\n",
    "</div>"
   ]
  },
  {
   "cell_type": "code",
   "execution_count": 1,
   "metadata": {},
   "outputs": [],
   "source": [
    "from itertools import combinations, chain #do not import anything else \n",
    "# (you may or may not use combinations and chain -- up to you --\n",
    "#  see https://docs.python.org/3/library/itertools.html?highlight=combinations#itertools.combinations\n",
    "#  and https://docs.python.org/3/library/itertools.html?highlight=chain#itertools.chain)\n",
    "\n",
    "# prints out a set, nicely\n",
    "# names is an optional list of the names for each of the (integer) items\n",
    "def settostr(s,names=None):\n",
    "    if names is None:\n",
    "        elems = [str(e) for e in s]\n",
    "    else:\n",
    "        elems = [names[e] for e in s]\n",
    "    return \"{\" + (\", \".join(elems)) + \"}\""
   ]
  },
  {
   "cell_type": "code",
   "execution_count": 2,
   "metadata": {},
   "outputs": [],
   "source": [
    "# loads in data from filename, assuming the file format used for this assignment\n",
    "def loaddata(filename):\n",
    "    with open(filename) as f:\n",
    "        nitems = int(f.readline())\n",
    "        names = [f.readline().strip() for i in range(nitems)]\n",
    "        nrows = int(f.readline())\n",
    "        data = [[int(s) for s in f.readline().split()] for i in range(nrows)]\n",
    "        f.close()\n",
    "        return (names,data,nitems)        "
   ]
  },
  {
   "cell_type": "code",
   "execution_count": 3,
   "metadata": {},
   "outputs": [],
   "source": [
    "### SOLUTIONS HERE\n",
    "\n",
    "\n",
    "def learnrules(numitems,data,minsupport,minconfidence):\n",
    "    # your code here returns whatever writerules expects as the formal parameter \"rules\"\n",
    "    return None # just temp -- delete and replace"
   ]
  },
  {
   "cell_type": "code",
   "execution_count": 4,
   "metadata": {},
   "outputs": [],
   "source": [
    "def writerules(rules,data,itemnames):\n",
    "    ### ADD YOUR CODE HERE\n",
    "    ## should print out each rule, *sorted by confidence*, (high to low) one per line\n",
    "    ## each line should list the support, then the confidence, then the rule\n",
    "    ## to line up the columns nicely, use\n",
    "    ##       \"{:7.4f}\".format(x)\n",
    "    ## (or equivalent) to print the floating point number in the variable x\n",
    "    ## use settostr (above) to write out the itemsets\n",
    "    \n",
    "    pass"
   ]
  },
  {
   "cell_type": "code",
   "execution_count": 5,
   "metadata": {},
   "outputs": [],
   "source": [
    "# prints the rule set\n",
    "def printruleset(datasetfilename,minsupport,minconfidence):\n",
    "    (itemnames,data,numitems) = loaddata(datasetfilename)\n",
    "    rules = learnrules(numitems,data,minsupport,minconfidence)\n",
    "    writerules(rules,data,itemnames)"
   ]
  },
  {
   "cell_type": "code",
   "execution_count": 6,
   "metadata": {},
   "outputs": [],
   "source": [
    "## toy dataset example\n",
    "printruleset('/usr/local/cs171/toymovies.txt',0.3,0.5)\n",
    "''' output should look like (lines with the same support and confidence may be listed in any order)\n",
    " 0.5000  1.0000    {Toy Story} => {Star Wars}\n",
    " 0.3000  1.0000    {Star Wars, Home Alone} => {Toy Story}\n",
    " 0.3000  1.0000    {Home Alone, Toy Story} => {Star Wars}\n",
    " 0.5000  0.7143    {Star Wars} => {Toy Story}\n",
    " 0.3000  0.6000    {Star Wars, Toy Story} => {Home Alone}\n",
    " 0.3000  0.6000    {Toy Story} => {Home Alone}\n",
    " 0.3000  0.6000    {Toy Story} => {Star Wars, Home Alone}\n",
    " 0.3000  0.5000    {Home Alone} => {Toy Story}\n",
    " 0.3000  0.5000    {Home Alone} => {Star Wars, Toy Story}\n",
    " 0.3000  0.5000    {Home Alone} => {Star Wars}\n",
    "''';"
   ]
  },
  {
   "cell_type": "code",
   "execution_count": 7,
   "metadata": {},
   "outputs": [
    {
     "name": "stdout",
     "output_type": "stream",
     "text": [
      "CPU times: user 15.9 ms, sys: 46.9 ms, total: 62.8 ms\n",
      "Wall time: 37.3 ms\n"
     ]
    }
   ],
   "source": [
    "%%time\n",
    "# the full groceries answer (should take under a minute to run)\n",
    "printruleset('/usr/local/cs171/groceries.txt',0.01,0.5)"
   ]
  },
  {
   "cell_type": "code",
   "execution_count": 8,
   "metadata": {},
   "outputs": [
    {
     "name": "stdout",
     "output_type": "stream",
     "text": [
      "CPU times: user 14.1 ms, sys: 31.7 ms, total: 45.7 ms\n",
      "Wall time: 21.6 ms\n"
     ]
    }
   ],
   "source": [
    "%%time\n",
    "# a different groceries dataset, looking for rules with less support, but higher confidence (should take under a minute to run)\n",
    "printruleset('/usr/local/cs171/groceries2.txt',0.001,0.7)"
   ]
  },
  {
   "cell_type": "markdown",
   "metadata": {},
   "source": [
    "<div style=\"color: #000000;background-color: #FFFFEE\">\n",
    "    <font size=+2>Question 2:</font> <font size=+1>(4 points)</font>\n",
    "\n",
    "The code below plots the dendrograms for a set of points, for both single and complete linkage.\n",
    "\n",
    "Below that are four cells that each use this code to plot the dendrograms for (different) sets of points.  For each part, what the dendrogram is supposed to look like is provided.  Your task is to change the input points so that the output matches the supplied image.  Your points may be of any dimensionality, so long as they provide the correct dendrograms.\n",
    "\n",
    "You just need to change the first line of each code cell to change the definitions for `X2a`, `X2b`, `X2c`, and `X2d`.  The values provided are certainly wrong!\n",
    "</div>\n",
    "</div>\n",
    "   <div class=\"alert alert-success\">\n",
    "    <font size=+1>Grading</font> (to be completed by grader)<br>\n",
    "    Score: /4<br>\n",
    "</div>"
   ]
  },
  {
   "cell_type": "code",
   "execution_count": 9,
   "metadata": {},
   "outputs": [],
   "source": [
    "import numpy as np\n",
    "import matplotlib.pyplot as plt\n",
    "from scipy.cluster import hierarchy\n",
    "from scipy.spatial import distance\n",
    "\n",
    "def plotdendrograms(X,ctypes=['single','complete'],plotpts=False,axs=None):\n",
    "    initi = 1 if plotpts else 0\n",
    "    if axs is None:\n",
    "        _, axs = plt.subplots(1,len(ctypes)+initi,figsize=(4*(initi+len(ctypes)),4))\n",
    "    if plotpts:\n",
    "        axs[0].plot(X[:,0],X[:,1],'k.')\n",
    "    for i,ctype in enumerate(ctypes):\n",
    "        Z = hierarchy.linkage(distance.pdist(X),ctype)\n",
    "        hh = hierarchy.dendrogram(Z,ax=axs[i+initi],link_color_func=lambda k: 'b',distance_sort='descending')\n",
    "        axs[i+initi].set_title(ctype+' linkage')"
   ]
  },
  {
   "cell_type": "markdown",
   "metadata": {},
   "source": [
    "<div style=\"color: #000000;background-color: #FFEEAA\">\n",
    "    <font size=+1>Question 2a:</font> <font size=+1>(1 point)</font>\n",
    "    The dendrogram below should look like\n",
    "    <br>\n",
    "    <img src=\"dendro2a.png\" width=400>\n",
    "</div>"
   ]
  },
  {
   "cell_type": "code",
   "execution_count": 10,
   "metadata": {},
   "outputs": [
    {
     "data": {
      "image/png": "[encoded data removed]",
      "text/plain": [
       "<Figure size 576x288 with 2 Axes>"
      ]
     },
     "metadata": {
      "needs_background": "light"
     },
     "output_type": "display_data"
    }
   ],
   "source": [
    "# replace the line below\n",
    "X2a = np.array([[1],[1],[1],[1],[1],[1],[1],[1],[1],[2]])\n",
    "plotdendrograms(X2a)"
   ]
  },
  {
   "cell_type": "markdown",
   "metadata": {},
   "source": [
    "<div style=\"color: #000000;background-color: #FFEEAA\">\n",
    "    <font size=+1>Question 2b:</font> <font size=+1>(1 point)</font>\n",
    "    The dendrogram below should look like\n",
    "    <br>\n",
    "    <img src=\"dendro2b.png\" width=401>\n",
    "</div>"
   ]
  },
  {
   "cell_type": "code",
   "execution_count": 11,
   "metadata": {},
   "outputs": [
    {
     "data": {
      "image/png": "[encoded data removed]",
      "text/plain": [
       "<Figure size 576x288 with 2 Axes>"
      ]
     },
     "metadata": {
      "needs_background": "light"
     },
     "output_type": "display_data"
    }
   ],
   "source": [
    "# Replace the line below\n",
    "X2b = np.array([[1,1],[1,1],[1,1],[1,1],[1,1],[1,1],[1,1],[1,1],[1,1],[2,1]])\n",
    "plotdendrograms(X2b)"
   ]
  },
  {
   "cell_type": "markdown",
   "metadata": {},
   "source": [
    "<div style=\"color: #000000;background-color: #FFEEAA\">\n",
    "    <font size=+1>Question 2c:</font> <font size=+1>(1 point)</font>\n",
    "    The dendrogram below should look like\n",
    "    <br>\n",
    "    <img src=\"dendro2c.png\" width=401>\n",
    "</div>"
   ]
  },
  {
   "cell_type": "code",
   "execution_count": 12,
   "metadata": {},
   "outputs": [
    {
     "name": "stderr",
     "output_type": "stream",
     "text": [
      "/opt/conda/lib/python3.9/site-packages/scipy/cluster/hierarchy.py:2841: UserWarning: Attempting to set identical bottom == top == 0 results in singular transformations; automatically expanding.\n",
      "  ax.set_ylim([0, dvw])\n"
     ]
    },
    {
     "data": {
      "image/png": "[encoded data removed]",
      "text/plain": [
       "<Figure size 576x288 with 2 Axes>"
      ]
     },
     "metadata": {
      "needs_background": "light"
     },
     "output_type": "display_data"
    }
   ],
   "source": [
    "X2c = np.zeros((10,5))\n",
    "plotdendrograms(X2c)"
   ]
  },
  {
   "cell_type": "markdown",
   "metadata": {},
   "source": [
    "<div style=\"color: #000000;background-color: #FFEEAA\">\n",
    "    <font size=+1>Question 2d:</font> <font size=+1>(1 point)</font>\n",
    "    The dendrogram below should look like\n",
    "    <br>\n",
    "    <img src=\"dendro2d.png\" width=401>\n",
    "</div>"
   ]
  },
  {
   "cell_type": "code",
   "execution_count": 13,
   "metadata": {
    "scrolled": true
   },
   "outputs": [
    {
     "data": {
      "image/png": "[encoded data removed]",
      "text/plain": [
       "<Figure size 576x288 with 2 Axes>"
      ]
     },
     "metadata": {
      "needs_background": "light"
     },
     "output_type": "display_data"
    }
   ],
   "source": [
    "X2d = np.array([[np.sin(i),np.cos(i)] for i in range(10)])\n",
    "plotdendrograms(X2d)"
   ]
  },
  {
   "cell_type": "markdown",
   "metadata": {},
   "source": [
    "<div style=\"color: #000000;background-color: #FFFFEE\">\n",
    "    <font size=+2>Question 3:</font> <font size=+1>(4 points)</font>\n",
    "\n",
    "The code loads the 7-vs-9 digit recognition dataset from the last problem set.  It also has the code to do logistic regression (again, same as the last data set).\n",
    "\n",
    "Plot the error of logistic regression on the validation set as a function of the number of principal components, from 1 to 100 (step of 1).\n",
    "</div>\n",
    "   <div class=\"alert alert-success\">\n",
    "    <font size=+1>Grading</font> (to be completed by grader)<br>\n",
    "    Score: /4<br>\n",
    "</div>"
   ]
  },
  {
   "cell_type": "code",
   "execution_count": 14,
   "metadata": {},
   "outputs": [],
   "source": [
    "# this code all the same as in PS 3\n",
    "import h5py \n",
    "def loaddigitdata(c1,c2,m):\n",
    "    f = h5py.File('/usr/local/cs171/uspsall73.mat','r') \n",
    "    data = f.get('data') \n",
    "    data = np.array(data).astype(float)\n",
    "    X = np.concatenate((data[c1,:,:],data[c2,:,:]))\n",
    "    Y = np.concatenate((-np.ones((data.shape[1])),np.ones((data.shape[1]))))\n",
    "    \n",
    "    rs = np.random.RandomState(seed=132857) # setting seed so that dataset is consistent\n",
    "    p = rs.permutation(X.shape[0])\n",
    "    X = X[p] # this and next line make copies, but that's okay given how small our dataset is\n",
    "    Y = Y[p]\n",
    "    \n",
    "    trainX = X[0:m,:] # use the first m (after shuffling) for training\n",
    "    trainY = Y[0:m,np.newaxis]\n",
    "    validX = X[m:,:] # use the rest for validation\n",
    "    validY = Y[m:,np.newaxis]\n",
    "    return (trainX,trainY,validX,validY)\n",
    "\n",
    "# load the data, to differentiate between 7s and 9s\n",
    "# we will use on 500 examples for training (to simulate a low-data situation) and the other part for hold-out validation\n",
    "(trainX,trainY,validX,validY) = loaddigitdata(6,8,500)\n",
    "# no z-score normalization this time\n",
    "\n",
    "def addones(Z):\n",
    "    return np.hstack((np.ones((Z.shape[0],1)),Z))\n",
    "    \n",
    "def learnlogreg_sklearn(X,Y,regstr=0.0,penalizeb=False):\n",
    "    X = addones(X)\n",
    "    Y = Y[:,0]\n",
    "    from sklearn.linear_model import LogisticRegression as lr\n",
    "    if regstr==0.0:\n",
    "        pen = 'none'\n",
    "        C = np.inf\n",
    "    else:\n",
    "        pen = 'l2'\n",
    "        C = 2.0/regstr # ???\n",
    "\n",
    "    Y = (Y>0.5).astype(int)\n",
    "    if penalizeb:\n",
    "        lrres = lr(tol=1e-4,max_iter=100000,penalty=pen,C=C,\n",
    "                   fit_intercept=False,\n",
    "                   solver='newton-cg',multi_class='multinomial').fit(X,Y)\n",
    "        w = lrres.coef_[0,:]\n",
    "    else:\n",
    "        lrres = lr(tol=1e-4,max_iter=100000,penalty=pen,C=C,\n",
    "                   fit_intercept=True,\n",
    "                   solver='newton-cg',multi_class='multinomial').fit(X[:,1:],Y)\n",
    "        w = np.hstack((lrres.intercept_,lrres.coef_[0,:]))\n",
    "    return w\n",
    "\n",
    "def predictlogreg(X,w):\n",
    "    return addones(X)@w\n",
    "\n",
    "def validerr(Xtrain,Ytrain,Xvalid,Yvalid):\n",
    "    w = learnlogreg_sklearn(Xtrain,Ytrain,1e-6)\n",
    "    predY = predictlogreg(Xvalid,w)[:,np.newaxis]\n",
    "    return (np.sign(predY)!=Yvalid).mean()    "
   ]
  },
  {
   "cell_type": "code",
   "execution_count": 15,
   "metadata": {},
   "outputs": [],
   "source": [
    "### Your Code Here"
   ]
  }
 ],
 "metadata": {
  "kernelspec": {
   "display_name": "CS 171",
   "language": "python",
   "name": "cs171"
  },
  "language_info": {
   "codemirror_mode": {
    "name": "ipython",
    "version": 3
   },
   "file_extension": ".py",
   "mimetype": "text/x-python",
   "name": "python",
   "nbconvert_exporter": "python",
   "pygments_lexer": "ipython3",
   "version": "3.9.7"
  }
 },
 "nbformat": 4,
 "nbformat_minor": 4
}
